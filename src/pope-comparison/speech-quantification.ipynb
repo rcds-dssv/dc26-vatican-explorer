{
 "cells": [
  {
   "cell_type": "code",
   "execution_count": null,
   "id": "58f85d0d",
   "metadata": {},
   "outputs": [],
   "source": [
    "# Imports\n",
    "from dataclasses import dataclass"
   ]
  },
  {
   "cell_type": "code",
   "execution_count": null,
   "id": "630ff6ff",
   "metadata": {},
   "outputs": [],
   "source": [
    "# Define classes we'll be working with\n",
    "\n",
    "# TODO:\n",
    "# - individual BibleRef (per verse) vs span (multiple verses)?\n",
    "\n",
    "@dataclass\n",
    "class BibleRef:\n",
    "    book: str\n",
    "    chapter: int\n",
    "    verse: int\n",
    "    bible_translation: str\n",
    "    text: str\n",
    "\n",
    "\n",
    "@dataclass\n",
    "class PopeSpeech:\n",
    "    text: str\n",
    "    bible_references: list[BibleRef]"
   ]
  }
 ],
 "metadata": {
  "kernelspec": {
   "display_name": "bible",
   "language": "python",
   "name": "python3"
  },
  "language_info": {
   "name": "python",
   "version": "3.11.9"
  }
 },
 "nbformat": 4,
 "nbformat_minor": 5
}
